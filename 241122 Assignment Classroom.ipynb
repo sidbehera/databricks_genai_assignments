{
 "cells": [
  {
   "cell_type": "markdown",
   "metadata": {
    "application/vnd.databricks.v1+cell": {
     "cellMetadata": {
      "byteLimit": 2048000,
      "rowLimit": 10000
     },
     "inputWidgets": {},
     "nuid": "fdfc53e9-b380-4b73-99e3-db3b41adda74",
     "showTitle": false,
     "tableResultSettingsMap": {},
     "title": ""
    }
   },
   "source": [
    "## Classroom Assignment 1: \n",
    "Assesment:\n",
    " \n",
    "Input a prompt from the user\n",
    "Generate 3 outcomes from a generative AI model:\n",
    "\n",
    "a. A story of 100 words about the prompt \n",
    "\n",
    "b. This story should be represented in a vector/embeddings format \n",
    "\n",
    "c. Find all Part-of-speeches in the generated story \n",
    " "
   ]
  },
  {
   "cell_type": "markdown",
   "metadata": {
    "application/vnd.databricks.v1+cell": {
     "cellMetadata": {
      "byteLimit": 2048000,
      "rowLimit": 10000
     },
     "inputWidgets": {},
     "nuid": "c60d596f-b09b-4220-a54f-9f5ab4021ddb",
     "showTitle": false,
     "tableResultSettingsMap": {},
     "title": ""
    }
   },
   "source": [
    "## Installing & Importing required libraries"
   ]
  },
  {
   "cell_type": "code",
   "execution_count": 0,
   "metadata": {
    "application/vnd.databricks.v1+cell": {
     "cellMetadata": {
      "byteLimit": 2048000,
      "rowLimit": 10000
     },
     "inputWidgets": {},
     "nuid": "def2c59a-742b-48f0-97d9-b21a7ffb2be7",
     "showTitle": false,
     "tableResultSettingsMap": {},
     "title": ""
    }
   },
   "outputs": [
    {
     "output_type": "stream",
     "name": "stdout",
     "output_type": "stream",
     "text": [
      "\u001B[43mNote: you may need to restart the kernel using %restart_python or dbutils.library.restartPython() to use updated packages.\u001B[0m\nCollecting openai==1.13.3\n  Obtaining dependency information for openai==1.13.3 from https://files.pythonhosted.org/packages/a9/cc/f2bbce0ad52e09cd1aecb724af06385021b42a7317cd5938ba9c8581509d/openai-1.13.3-py3-none-any.whl.metadata\n  Using cached openai-1.13.3-py3-none-any.whl.metadata (18 kB)\nRequirement already satisfied: anyio<5,>=3.5.0 in /databricks/python3/lib/python3.11/site-packages (from openai==1.13.3) (3.5.0)\nRequirement already satisfied: distro<2,>=1.7.0 in /usr/lib/python3/dist-packages (from openai==1.13.3) (1.7.0)\nRequirement already satisfied: httpx<1,>=0.23.0 in /databricks/python3/lib/python3.11/site-packages (from openai==1.13.3) (0.27.0)\nRequirement already satisfied: pydantic<3,>=1.9.0 in /databricks/python3/lib/python3.11/site-packages (from openai==1.13.3) (1.10.6)\nRequirement already satisfied: sniffio in /databricks/python3/lib/python3.11/site-packages (from openai==1.13.3) (1.2.0)\nRequirement already satisfied: tqdm>4 in /databricks/python3/lib/python3.11/site-packages (from openai==1.13.3) (4.65.0)\nRequirement already satisfied: typing-extensions<5,>=4.7 in /databricks/python3/lib/python3.11/site-packages (from openai==1.13.3) (4.10.0)\nRequirement already satisfied: idna>=2.8 in /databricks/python3/lib/python3.11/site-packages (from anyio<5,>=3.5.0->openai==1.13.3) (3.4)\nRequirement already satisfied: certifi in /databricks/python3/lib/python3.11/site-packages (from httpx<1,>=0.23.0->openai==1.13.3) (2023.7.22)\nRequirement already satisfied: httpcore==1.* in /databricks/python3/lib/python3.11/site-packages (from httpx<1,>=0.23.0->openai==1.13.3) (1.0.5)\nRequirement already satisfied: h11<0.15,>=0.13 in /databricks/python3/lib/python3.11/site-packages (from httpcore==1.*->httpx<1,>=0.23.0->openai==1.13.3) (0.14.0)\nUsing cached openai-1.13.3-py3-none-any.whl (227 kB)\nInstalling collected packages: openai\n  Attempting uninstall: openai\n    Found existing installation: openai 1.29.0\n    Not uninstalling openai at /databricks/python3/lib/python3.11/site-packages, outside environment /local_disk0/.ephemeral_nfs/envs/pythonEnv-3486f682-8b38-453e-8b2d-7883ae175008\n    Can't uninstall 'openai'. No files were found to uninstall.\nSuccessfully installed openai-1.13.3\n\u001B[43mNote: you may need to restart the kernel using %restart_python or dbutils.library.restartPython() to use updated packages.\u001B[0m\n"
     ]
    }
   ],
   "source": [
    "!pip install openai==1.13.3"
   ]
  },
  {
   "cell_type": "code",
   "execution_count": 0,
   "metadata": {
    "application/vnd.databricks.v1+cell": {
     "cellMetadata": {
      "byteLimit": 2048000,
      "rowLimit": 10000
     },
     "inputWidgets": {},
     "nuid": "2687d163-bacd-4ae1-bc40-ff4054d1bb71",
     "showTitle": false,
     "tableResultSettingsMap": {},
     "title": ""
    }
   },
   "outputs": [],
   "source": [
    "dbutils.library.restartPython()"
   ]
  },
  {
   "cell_type": "code",
   "execution_count": 0,
   "metadata": {
    "application/vnd.databricks.v1+cell": {
     "cellMetadata": {
      "byteLimit": 2048000,
      "rowLimit": 10000
     },
     "inputWidgets": {},
     "nuid": "99ed767d-1a58-4467-873a-447433fdb171",
     "showTitle": false,
     "tableResultSettingsMap": {},
     "title": ""
    }
   },
   "outputs": [
    {
     "output_type": "stream",
     "name": "stdout",
     "output_type": "stream",
     "text": [
      "\u001B[43mNote: you may need to restart the kernel using %restart_python or dbutils.library.restartPython() to use updated packages.\u001B[0m\nRequirement already satisfied: transformers in /databricks/python3/lib/python3.11/site-packages (4.40.2)\nRequirement already satisfied: torch in /databricks/python3/lib/python3.11/site-packages (2.3.0+cpu)\nRequirement already satisfied: datasets in /databricks/python3/lib/python3.11/site-packages (2.19.1)\nRequirement already satisfied: filelock in /databricks/python3/lib/python3.11/site-packages (from transformers) (3.13.4)\nRequirement already satisfied: huggingface-hub<1.0,>=0.19.3 in /databricks/python3/lib/python3.11/site-packages (from transformers) (0.21.2)\nRequirement already satisfied: numpy>=1.17 in /databricks/python3/lib/python3.11/site-packages (from transformers) (1.23.5)\nRequirement already satisfied: packaging>=20.0 in /databricks/python3/lib/python3.11/site-packages (from transformers) (23.2)\nRequirement already satisfied: pyyaml>=5.1 in /databricks/python3/lib/python3.11/site-packages (from transformers) (6.0)\nRequirement already satisfied: regex!=2019.12.17 in /databricks/python3/lib/python3.11/site-packages (from transformers) (2022.7.9)\nRequirement already satisfied: requests in /databricks/python3/lib/python3.11/site-packages (from transformers) (2.31.0)\nRequirement already satisfied: tokenizers<0.20,>=0.19 in /databricks/python3/lib/python3.11/site-packages (from transformers) (0.19.0)\nRequirement already satisfied: safetensors>=0.4.1 in /databricks/python3/lib/python3.11/site-packages (from transformers) (0.4.2)\nRequirement already satisfied: tqdm>=4.27 in /databricks/python3/lib/python3.11/site-packages (from transformers) (4.65.0)\nRequirement already satisfied: typing-extensions>=4.8.0 in /databricks/python3/lib/python3.11/site-packages (from torch) (4.10.0)\nRequirement already satisfied: sympy in /databricks/python3/lib/python3.11/site-packages (from torch) (1.11.1)\nRequirement already satisfied: networkx in /databricks/python3/lib/python3.11/site-packages (from torch) (3.1)\nRequirement already satisfied: jinja2 in /databricks/python3/lib/python3.11/site-packages (from torch) (3.1.2)\nRequirement already satisfied: fsspec in /databricks/python3/lib/python3.11/site-packages (from torch) (2023.5.0)\nRequirement already satisfied: pyarrow>=12.0.0 in /databricks/python3/lib/python3.11/site-packages (from datasets) (14.0.1)\nRequirement already satisfied: pyarrow-hotfix in /databricks/python3/lib/python3.11/site-packages (from datasets) (0.6)\nRequirement already satisfied: dill<0.3.9,>=0.3.0 in /databricks/python3/lib/python3.11/site-packages (from datasets) (0.3.6)\nRequirement already satisfied: pandas in /databricks/python3/lib/python3.11/site-packages (from datasets) (1.5.3)\nRequirement already satisfied: xxhash in /databricks/python3/lib/python3.11/site-packages (from datasets) (3.4.1)\nRequirement already satisfied: multiprocess in /databricks/python3/lib/python3.11/site-packages (from datasets) (0.70.14)\nRequirement already satisfied: aiohttp in /databricks/python3/lib/python3.11/site-packages (from datasets) (3.8.5)\nRequirement already satisfied: attrs>=17.3.0 in /databricks/python3/lib/python3.11/site-packages (from aiohttp->datasets) (22.1.0)\nRequirement already satisfied: charset-normalizer<4.0,>=2.0 in /databricks/python3/lib/python3.11/site-packages (from aiohttp->datasets) (2.0.4)\nRequirement already satisfied: multidict<7.0,>=4.5 in /databricks/python3/lib/python3.11/site-packages (from aiohttp->datasets) (6.0.2)\nRequirement already satisfied: async-timeout<5.0,>=4.0.0a3 in /databricks/python3/lib/python3.11/site-packages (from aiohttp->datasets) (4.0.2)\nRequirement already satisfied: yarl<2.0,>=1.0 in /databricks/python3/lib/python3.11/site-packages (from aiohttp->datasets) (1.8.1)\nRequirement already satisfied: frozenlist>=1.1.1 in /databricks/python3/lib/python3.11/site-packages (from aiohttp->datasets) (1.3.3)\nRequirement already satisfied: aiosignal>=1.1.2 in /databricks/python3/lib/python3.11/site-packages (from aiohttp->datasets) (1.2.0)\nRequirement already satisfied: idna<4,>=2.5 in /databricks/python3/lib/python3.11/site-packages (from requests->transformers) (3.4)\nRequirement already satisfied: urllib3<3,>=1.21.1 in /databricks/python3/lib/python3.11/site-packages (from requests->transformers) (1.26.16)\nRequirement already satisfied: certifi>=2017.4.17 in /databricks/python3/lib/python3.11/site-packages (from requests->transformers) (2023.7.22)\nRequirement already satisfied: MarkupSafe>=2.0 in /databricks/python3/lib/python3.11/site-packages (from jinja2->torch) (2.1.1)\nRequirement already satisfied: python-dateutil>=2.8.1 in /databricks/python3/lib/python3.11/site-packages (from pandas->datasets) (2.8.2)\nRequirement already satisfied: pytz>=2020.1 in /databricks/python3/lib/python3.11/site-packages (from pandas->datasets) (2022.7)\nRequirement already satisfied: mpmath>=0.19 in /databricks/python3/lib/python3.11/site-packages (from sympy->torch) (1.3.0)\nRequirement already satisfied: six>=1.5 in /usr/lib/python3/dist-packages (from python-dateutil>=2.8.1->pandas->datasets) (1.16.0)\n\u001B[43mNote: you may need to restart the kernel using %restart_python or dbutils.library.restartPython() to use updated packages.\u001B[0m\n"
     ]
    },
    {
     "output_type": "stream",
     "name": "stderr",
     "output_type": "stream",
     "text": [
      "2024-11-22 15:40:55.337228: I tensorflow/core/util/port.cc:113] oneDNN custom operations are on. You may see slightly different numerical results due to floating-point round-off errors from different computation orders. To turn them off, set the environment variable `TF_ENABLE_ONEDNN_OPTS=0`.\n2024-11-22 15:40:55.338036: I external/local_tsl/tsl/cuda/cudart_stub.cc:32] Could not find cuda drivers on your machine, GPU will not be used.\n2024-11-22 15:40:55.341149: I external/local_tsl/tsl/cuda/cudart_stub.cc:32] Could not find cuda drivers on your machine, GPU will not be used.\n2024-11-22 15:40:55.380475: I tensorflow/core/platform/cpu_feature_guard.cc:210] This TensorFlow binary is optimized to use available CPU instructions in performance-critical operations.\nTo enable the following instructions: AVX2 AVX512F AVX512_VNNI FMA, in other operations, rebuild TensorFlow with the appropriate compiler flags.\n2024-11-22 15:40:56.189758: W tensorflow/compiler/tf2tensorrt/utils/py_utils.cc:38] TF-TRT Warning: Could not find TensorRT\n"
     ]
    }
   ],
   "source": [
    "# Install necessary libraries \n",
    "%pip install transformers torch datasets\n",
    "\n",
    "# Import required modules\n",
    "from transformers import pipeline, AutoTokenizer\n",
    "import asyncio\n",
    "from openai import AsyncAzureOpenAI\n",
    "import spacy"
   ]
  },
  {
   "cell_type": "code",
   "execution_count": 0,
   "metadata": {
    "application/vnd.databricks.v1+cell": {
     "cellMetadata": {
      "byteLimit": 2048000,
      "rowLimit": 10000
     },
     "inputWidgets": {},
     "nuid": "4b0274da-04c6-40a8-9468-e0a24ed7c0ab",
     "showTitle": false,
     "tableResultSettingsMap": {},
     "title": ""
    }
   },
   "outputs": [
    {
     "output_type": "stream",
     "name": "stdout",
     "output_type": "stream",
     "text": [
      "Collecting en-core-web-sm==3.7.1\n  Using cached https://github.com/explosion/spacy-models/releases/download/en_core_web_sm-3.7.1/en_core_web_sm-3.7.1-py3-none-any.whl (12.8 MB)\nRequirement already satisfied: spacy<3.8.0,>=3.7.2 in /databricks/python3/lib/python3.11/site-packages (from en-core-web-sm==3.7.1) (3.7.2)\nRequirement already satisfied: spacy-legacy<3.1.0,>=3.0.11 in /databricks/python3/lib/python3.11/site-packages (from spacy<3.8.0,>=3.7.2->en-core-web-sm==3.7.1) (3.0.12)\nRequirement already satisfied: spacy-loggers<2.0.0,>=1.0.0 in /databricks/python3/lib/python3.11/site-packages (from spacy<3.8.0,>=3.7.2->en-core-web-sm==3.7.1) (1.0.5)\nRequirement already satisfied: murmurhash<1.1.0,>=0.28.0 in /databricks/python3/lib/python3.11/site-packages (from spacy<3.8.0,>=3.7.2->en-core-web-sm==3.7.1) (1.0.10)\nRequirement already satisfied: cymem<2.1.0,>=2.0.2 in /databricks/python3/lib/python3.11/site-packages (from spacy<3.8.0,>=3.7.2->en-core-web-sm==3.7.1) (2.0.8)\nRequirement already satisfied: preshed<3.1.0,>=3.0.2 in /databricks/python3/lib/python3.11/site-packages (from spacy<3.8.0,>=3.7.2->en-core-web-sm==3.7.1) (3.0.9)\nRequirement already satisfied: thinc<8.3.0,>=8.1.8 in /databricks/python3/lib/python3.11/site-packages (from spacy<3.8.0,>=3.7.2->en-core-web-sm==3.7.1) (8.2.3)\nRequirement already satisfied: wasabi<1.2.0,>=0.9.1 in /databricks/python3/lib/python3.11/site-packages (from spacy<3.8.0,>=3.7.2->en-core-web-sm==3.7.1) (1.1.2)\nRequirement already satisfied: srsly<3.0.0,>=2.4.3 in /databricks/python3/lib/python3.11/site-packages (from spacy<3.8.0,>=3.7.2->en-core-web-sm==3.7.1) (2.4.8)\nRequirement already satisfied: catalogue<2.1.0,>=2.0.6 in /databricks/python3/lib/python3.11/site-packages (from spacy<3.8.0,>=3.7.2->en-core-web-sm==3.7.1) (2.0.10)\nRequirement already satisfied: weasel<0.4.0,>=0.1.0 in /databricks/python3/lib/python3.11/site-packages (from spacy<3.8.0,>=3.7.2->en-core-web-sm==3.7.1) (0.3.4)\nRequirement already satisfied: typer<0.10.0,>=0.3.0 in /databricks/python3/lib/python3.11/site-packages (from spacy<3.8.0,>=3.7.2->en-core-web-sm==3.7.1) (0.9.4)\nRequirement already satisfied: smart-open<7.0.0,>=5.2.1 in /databricks/python3/lib/python3.11/site-packages (from spacy<3.8.0,>=3.7.2->en-core-web-sm==3.7.1) (5.2.1)\nRequirement already satisfied: tqdm<5.0.0,>=4.38.0 in /databricks/python3/lib/python3.11/site-packages (from spacy<3.8.0,>=3.7.2->en-core-web-sm==3.7.1) (4.65.0)\nRequirement already satisfied: requests<3.0.0,>=2.13.0 in /databricks/python3/lib/python3.11/site-packages (from spacy<3.8.0,>=3.7.2->en-core-web-sm==3.7.1) (2.31.0)\nRequirement already satisfied: pydantic!=1.8,!=1.8.1,<3.0.0,>=1.7.4 in /databricks/python3/lib/python3.11/site-packages (from spacy<3.8.0,>=3.7.2->en-core-web-sm==3.7.1) (1.10.6)\nRequirement already satisfied: jinja2 in /databricks/python3/lib/python3.11/site-packages (from spacy<3.8.0,>=3.7.2->en-core-web-sm==3.7.1) (3.1.2)\nRequirement already satisfied: setuptools in /databricks/python3/lib/python3.11/site-packages (from spacy<3.8.0,>=3.7.2->en-core-web-sm==3.7.1) (68.0.0)\nRequirement already satisfied: packaging>=20.0 in /databricks/python3/lib/python3.11/site-packages (from spacy<3.8.0,>=3.7.2->en-core-web-sm==3.7.1) (23.2)\nRequirement already satisfied: langcodes<4.0.0,>=3.2.0 in /databricks/python3/lib/python3.11/site-packages (from spacy<3.8.0,>=3.7.2->en-core-web-sm==3.7.1) (3.4.0)\nRequirement already satisfied: numpy>=1.19.0 in /databricks/python3/lib/python3.11/site-packages (from spacy<3.8.0,>=3.7.2->en-core-web-sm==3.7.1) (1.23.5)\nRequirement already satisfied: language-data>=1.2 in /databricks/python3/lib/python3.11/site-packages (from langcodes<4.0.0,>=3.2.0->spacy<3.8.0,>=3.7.2->en-core-web-sm==3.7.1) (1.2.0)\nRequirement already satisfied: typing-extensions>=4.2.0 in /databricks/python3/lib/python3.11/site-packages (from pydantic!=1.8,!=1.8.1,<3.0.0,>=1.7.4->spacy<3.8.0,>=3.7.2->en-core-web-sm==3.7.1) (4.10.0)\nRequirement already satisfied: charset-normalizer<4,>=2 in /databricks/python3/lib/python3.11/site-packages (from requests<3.0.0,>=2.13.0->spacy<3.8.0,>=3.7.2->en-core-web-sm==3.7.1) (2.0.4)\nRequirement already satisfied: idna<4,>=2.5 in /databricks/python3/lib/python3.11/site-packages (from requests<3.0.0,>=2.13.0->spacy<3.8.0,>=3.7.2->en-core-web-sm==3.7.1) (3.4)\nRequirement already satisfied: urllib3<3,>=1.21.1 in /databricks/python3/lib/python3.11/site-packages (from requests<3.0.0,>=2.13.0->spacy<3.8.0,>=3.7.2->en-core-web-sm==3.7.1) (1.26.16)\nRequirement already satisfied: certifi>=2017.4.17 in /databricks/python3/lib/python3.11/site-packages (from requests<3.0.0,>=2.13.0->spacy<3.8.0,>=3.7.2->en-core-web-sm==3.7.1) (2023.7.22)\nRequirement already satisfied: blis<0.8.0,>=0.7.8 in /databricks/python3/lib/python3.11/site-packages (from thinc<8.3.0,>=8.1.8->spacy<3.8.0,>=3.7.2->en-core-web-sm==3.7.1) (0.7.11)\nRequirement already satisfied: confection<1.0.0,>=0.0.1 in /databricks/python3/lib/python3.11/site-packages (from thinc<8.3.0,>=8.1.8->spacy<3.8.0,>=3.7.2->en-core-web-sm==3.7.1) (0.1.4)\nRequirement already satisfied: click<9.0.0,>=7.1.1 in /databricks/python3/lib/python3.11/site-packages (from typer<0.10.0,>=0.3.0->spacy<3.8.0,>=3.7.2->en-core-web-sm==3.7.1) (8.0.4)\nRequirement already satisfied: cloudpathlib<0.17.0,>=0.7.0 in /databricks/python3/lib/python3.11/site-packages (from weasel<0.4.0,>=0.1.0->spacy<3.8.0,>=3.7.2->en-core-web-sm==3.7.1) (0.16.0)\nRequirement already satisfied: MarkupSafe>=2.0 in /databricks/python3/lib/python3.11/site-packages (from jinja2->spacy<3.8.0,>=3.7.2->en-core-web-sm==3.7.1) (2.1.1)\nRequirement already satisfied: marisa-trie>=0.7.7 in /databricks/python3/lib/python3.11/site-packages (from language-data>=1.2->langcodes<4.0.0,>=3.2.0->spacy<3.8.0,>=3.7.2->en-core-web-sm==3.7.1) (1.1.1)\nInstalling collected packages: en-core-web-sm\nSuccessfully installed en-core-web-sm-3.7.1\n"
     ]
    },
    {
     "output_type": "stream",
     "name": "stderr",
     "output_type": "stream",
     "text": [
      "\n\u001B[1m[\u001B[0m\u001B[34;49mnotice\u001B[0m\u001B[1;39;49m]\u001B[0m\u001B[39;49m A new release of pip is available: \u001B[0m\u001B[31;49m23.2.1\u001B[0m\u001B[39;49m -> \u001B[0m\u001B[32;49m24.3.1\u001B[0m\n\u001B[1m[\u001B[0m\u001B[34;49mnotice\u001B[0m\u001B[1;39;49m]\u001B[0m\u001B[39;49m To update, run: \u001B[0m\u001B[32;49mpip install --upgrade pip\u001B[0m\n"
     ]
    },
    {
     "output_type": "stream",
     "name": "stdout",
     "output_type": "stream",
     "text": [
      "\u001B[38;5;2m✔ Download and installation successful\u001B[0m\nYou can now load the package via spacy.load('en_core_web_sm')\n"
     ]
    }
   ],
   "source": [
    "%sh\n",
    "python3 -m spacy download en_core_web_sm"
   ]
  },
  {
   "cell_type": "markdown",
   "metadata": {
    "application/vnd.databricks.v1+cell": {
     "cellMetadata": {
      "byteLimit": 2048000,
      "rowLimit": 10000
     },
     "inputWidgets": {},
     "nuid": "ce735865-7b1d-4f4b-88ca-c737de738d59",
     "showTitle": false,
     "tableResultSettingsMap": {},
     "title": ""
    }
   },
   "source": [
    "## Logic"
   ]
  },
  {
   "cell_type": "markdown",
   "metadata": {
    "application/vnd.databricks.v1+cell": {
     "cellMetadata": {},
     "inputWidgets": {},
     "nuid": "6e2b6095-8af7-4e26-b88d-16fd8f9bdcb4",
     "showTitle": false,
     "tableResultSettingsMap": {},
     "title": ""
    }
   },
   "source": [
    "- Story generation: Azure OpenAI\n",
    "- Embedding generation: Huggingface GPT2\n",
    "- POS Tagging: Spacy"
   ]
  },
  {
   "cell_type": "code",
   "execution_count": 0,
   "metadata": {
    "application/vnd.databricks.v1+cell": {
     "cellMetadata": {
      "byteLimit": 2048000,
      "rowLimit": 10000
     },
     "inputWidgets": {},
     "nuid": "1e34fe31-a34b-400a-9883-0a302b019d7a",
     "showTitle": false,
     "tableResultSettingsMap": {},
     "title": ""
    }
   },
   "outputs": [],
   "source": [
    "async def main():\n",
    "  try:\n",
    "        # Get configuration settings\n",
    "        # Configuration settings\n",
    "        azure_oai_endpoint = \"\"\n",
    "        azure_oai_key = \"\"\n",
    "        azure_oai_deployment =\"\"\n",
    "\n",
    "        # Configure the Azure OpenAI client\n",
    "        client = AsyncAzureOpenAI(\n",
    "            azure_endpoint = azure_oai_endpoint,\n",
    "            api_key=azure_oai_key,\n",
    "            api_version=\"2024-02-15-preview\"\n",
    "        )\n",
    "\n",
    "        while True:\n",
    "            prompt_input = input('Enter the prompt for the story (Press Q to quit):')\n",
    "\n",
    "            if prompt_input.lower() == 'q':\n",
    "                print('Exiting program...')\n",
    "                break\n",
    "\n",
    "            for _ in range(3):\n",
    "                # Generate a story\n",
    "                story = await generate_story(prompt_input, model=azure_oai_deployment, client=client)\n",
    "                print(\"Generated Story:\\n\", story)\n",
    "\n",
    "                # Get story embeddings\n",
    "                tokenizer = AutoTokenizer.from_pretrained('gpt2')\n",
    "                tokenizer.pad_token = tokenizer.eos_token\n",
    "                embeddings = get_embeddings(story, tokenizer=tokenizer)\n",
    "                print(\"\\nEmbeddings:\\n\", embeddings)\n",
    "\n",
    "                # Find parts of speech\n",
    "                pos_tags = pos_tagging(story)\n",
    "                print(\"\\nPart-of-Speech Tags:\")\n",
    "                for token, pos in pos_tags:\n",
    "                    print(f\"{token}: {pos}\")\n",
    "  except Exception as ex:\n",
    "        print(ex)\n",
    "\n",
    "async def generate_story(prompt, model, client):\n",
    "    # Provide a basic user message, and use the prompt content as the user message\n",
    "    system_message = \"You are a expert short story writer. Please generate only a short story in 100 words on the mentioned topic or description.\"\n",
    "    user_message = prompt\n",
    "\n",
    "    # Format and send the request to the model\n",
    "    messages =[\n",
    "        {\"role\": \"system\", \"content\": system_message},\n",
    "        {\"role\": \"user\", \"content\": user_message},\n",
    "    ]\n",
    "\n",
    "    # Call the Azure OpenAI model\n",
    "    response = await client.chat.completions.create(\n",
    "        model=model,\n",
    "        messages=messages,\n",
    "        temperature=0.7,\n",
    "        max_tokens=1000\n",
    "    )\n",
    "    # Print the response to the console\n",
    "    return response.choices[0].message.content\n",
    "\n",
    "# Function to get embeddings\n",
    "def get_embeddings(text, tokenizer):\n",
    "    return tokenizer(\n",
    "        text,\n",
    "        truncation=True,\n",
    "        padding=\"max_length\",\n",
    "        max_length=128\n",
    "    )\n",
    "\n",
    "# Function to find parts of speech\n",
    "def pos_tagging(text):\n",
    "    nlp = spacy.load(\"en_core_web_sm\")\n",
    "    doc = nlp(text)\n",
    "    pos_tags = [(token.text, token.pos_) for token in doc]\n",
    "    return pos_tags"
   ]
  },
  {
   "cell_type": "markdown",
   "metadata": {
    "application/vnd.databricks.v1+cell": {
     "cellMetadata": {
      "byteLimit": 2048000,
      "rowLimit": 10000
     },
     "inputWidgets": {},
     "nuid": "b0f04706-3826-4751-9370-8fd0adc1b3b4",
     "showTitle": false,
     "tableResultSettingsMap": {},
     "title": ""
    }
   },
   "source": [
    "## Outputs"
   ]
  },
  {
   "cell_type": "code",
   "execution_count": 0,
   "metadata": {
    "application/vnd.databricks.v1+cell": {
     "cellMetadata": {
      "byteLimit": 2048000,
      "rowLimit": 10000
     },
     "inputWidgets": {},
     "nuid": "94873023-38ad-4d74-b623-e25f4d127655",
     "showTitle": false,
     "tableResultSettingsMap": {},
     "title": ""
    }
   },
   "outputs": [
    {
     "output_type": "display_data",
     "data": {
      "text/plain": [
       "Enter the prompt for the story (Press Q to quit): Red Mangoes"
      ]
     },
     "metadata": {},
     "output_type": "display_data"
    },
    {
     "output_type": "stream",
     "name": "stdout",
     "output_type": "stream",
     "text": [
      "Generated Story:\n In a small village, there was a magical tree that bore red mangoes. These mangoes were said to grant any wish made upon them. One day, a young girl named Maya discovered the tree. She wished for her sick mother to be healed. Miraculously, her wish came true. News spread, and people from far and wide came to make their wishes. However, Maya noticed a change. The mangoes were gradually turning yellow and losing their magic. Maya realized that the true magic was in the love and care she had shown her mother. With that realization, the tree began to bear red mangoes once more.\n\nEmbeddings:\n {'input_ids': [818, 257, 1402, 7404, 11, 612, 373, 257, 10883, 5509, 326, 18631, 2266, 49364, 274, 13, 2312, 49364, 274, 547, 531, 284, 7264, 597, 4601, 925, 2402, 606, 13, 1881, 1110, 11, 257, 1862, 2576, 3706, 26041, 5071, 262, 5509, 13, 1375, 16555, 329, 607, 6639, 2802, 284, 307, 28557, 13, 7381, 330, 18117, 11, 607, 4601, 1625, 2081, 13, 3000, 4104, 11, 290, 661, 422, 1290, 290, 3094, 1625, 284, 787, 511, 12802, 13, 2102, 11, 26041, 6810, 257, 1487, 13, 383, 49364, 274, 547, 11835, 6225, 7872, 290, 6078, 511, 5536, 13, 26041, 6939, 326, 262, 2081, 5536, 373, 287, 262, 1842, 290, 1337, 673, 550, 3402, 607, 2802, 13, 2080, 326, 23258, 11, 262, 5509, 2540, 284, 6842, 2266, 49364, 274, 1752, 517, 13, 50256], 'attention_mask': [1, 1, 1, 1, 1, 1, 1, 1, 1, 1, 1, 1, 1, 1, 1, 1, 1, 1, 1, 1, 1, 1, 1, 1, 1, 1, 1, 1, 1, 1, 1, 1, 1, 1, 1, 1, 1, 1, 1, 1, 1, 1, 1, 1, 1, 1, 1, 1, 1, 1, 1, 1, 1, 1, 1, 1, 1, 1, 1, 1, 1, 1, 1, 1, 1, 1, 1, 1, 1, 1, 1, 1, 1, 1, 1, 1, 1, 1, 1, 1, 1, 1, 1, 1, 1, 1, 1, 1, 1, 1, 1, 1, 1, 1, 1, 1, 1, 1, 1, 1, 1, 1, 1, 1, 1, 1, 1, 1, 1, 1, 1, 1, 1, 1, 1, 1, 1, 1, 1, 1, 1, 1, 1, 1, 1, 1, 1, 0]}\n\nPart-of-Speech Tags:\nIn: ADP\na: DET\nsmall: ADJ\nvillage: NOUN\n,: PUNCT\nthere: PRON\nwas: VERB\na: DET\nmagical: ADJ\ntree: NOUN\nthat: PRON\nbore: VERB\nred: ADJ\nmangoes: NOUN\n.: PUNCT\nThese: DET\nmangoes: NOUN\nwere: AUX\nsaid: VERB\nto: PART\ngrant: VERB\nany: DET\nwish: NOUN\nmade: VERB\nupon: SCONJ\nthem: PRON\n.: PUNCT\nOne: NUM\nday: NOUN\n,: PUNCT\na: DET\nyoung: ADJ\ngirl: NOUN\nnamed: VERB\nMaya: PROPN\ndiscovered: VERB\nthe: DET\ntree: NOUN\n.: PUNCT\nShe: PRON\nwished: VERB\nfor: ADP\nher: PRON\nsick: ADJ\nmother: NOUN\nto: PART\nbe: AUX\nhealed: VERB\n.: PUNCT\nMiraculously: ADV\n,: PUNCT\nher: PRON\nwish: NOUN\ncame: VERB\ntrue: ADJ\n.: PUNCT\nNews: NOUN\nspread: NOUN\n,: PUNCT\nand: CCONJ\npeople: NOUN\nfrom: ADP\nfar: ADV\nand: CCONJ\nwide: ADJ\ncame: VERB\nto: PART\nmake: VERB\ntheir: PRON\nwishes: NOUN\n.: PUNCT\nHowever: ADV\n,: PUNCT\nMaya: PROPN\nnoticed: VERB\na: DET\nchange: NOUN\n.: PUNCT\nThe: DET\nmangoes: NOUN\nwere: AUX\ngradually: ADV\nturning: VERB\nyellow: ADJ\nand: CCONJ\nlosing: VERB\ntheir: PRON\nmagic: NOUN\n.: PUNCT\nMaya: PROPN\nrealized: VERB\nthat: SCONJ\nthe: DET\ntrue: ADJ\nmagic: NOUN\nwas: AUX\nin: ADP\nthe: DET\nlove: NOUN\nand: CCONJ\ncare: VERB\nshe: PRON\nhad: AUX\nshown: VERB\nher: PRON\nmother: NOUN\n.: PUNCT\nWith: ADP\nthat: DET\nrealization: NOUN\n,: PUNCT\nthe: DET\ntree: NOUN\nbegan: VERB\nto: PART\nbear: VERB\nred: ADJ\nmangoes: NOUN\nonce: ADV\nmore: ADV\n.: PUNCT\nGenerated Story:\n In a small village, nestled amidst lush green fields, there lived a young girl named Maya. Every summer, when the mango trees bloomed, Maya would eagerly wait for the arrival of the red mangoes. These mangoes, with their vibrant hue and sweet fragrance, were a delight to her taste buds. Maya would climb the tallest tree, pluck the ripest mangoes, and share them with her friends. One summer, a storm destroyed the mango trees, leaving Maya disheartened. But with determination, she planted new saplings, knowing that someday, the red mangoes would once again grace her village with their presence.\n\nEmbeddings:\n {'input_ids': [818, 257, 1402, 7404, 11, 16343, 992, 31095, 37408, 4077, 7032, 11, 612, 5615, 257, 1862, 2576, 3706, 26041, 13, 3887, 3931, 11, 618, 262, 49364, 7150, 29955, 276, 11, 26041, 561, 30130, 4043, 329, 262, 10325, 286, 262, 2266, 49364, 274, 13, 2312, 49364, 274, 11, 351, 511, 21266, 37409, 290, 6029, 36860, 11, 547, 257, 10974, 284, 607, 6938, 36402, 13, 26041, 561, 12080, 262, 38760, 5509, 11, 458, 1347, 262, 18344, 395, 49364, 274, 11, 290, 2648, 606, 351, 607, 2460, 13, 1881, 3931, 11, 257, 6388, 6572, 262, 49364, 7150, 11, 4305, 26041, 595, 11499, 2945, 13, 887, 351, 12123, 11, 673, 18969, 649, 473, 47093, 11, 6970, 326, 25580, 11, 262, 2266, 49364, 274, 561, 1752, 757, 11542, 607, 7404, 351, 511, 4931], 'attention_mask': [1, 1, 1, 1, 1, 1, 1, 1, 1, 1, 1, 1, 1, 1, 1, 1, 1, 1, 1, 1, 1, 1, 1, 1, 1, 1, 1, 1, 1, 1, 1, 1, 1, 1, 1, 1, 1, 1, 1, 1, 1, 1, 1, 1, 1, 1, 1, 1, 1, 1, 1, 1, 1, 1, 1, 1, 1, 1, 1, 1, 1, 1, 1, 1, 1, 1, 1, 1, 1, 1, 1, 1, 1, 1, 1, 1, 1, 1, 1, 1, 1, 1, 1, 1, 1, 1, 1, 1, 1, 1, 1, 1, 1, 1, 1, 1, 1, 1, 1, 1, 1, 1, 1, 1, 1, 1, 1, 1, 1, 1, 1, 1, 1, 1, 1, 1, 1, 1, 1, 1, 1, 1, 1, 1, 1, 1, 1, 1]}\n\nPart-of-Speech Tags:\nIn: ADP\na: DET\nsmall: ADJ\nvillage: NOUN\n,: PUNCT\nnestled: VERB\namidst: ADP\nlush: ADJ\ngreen: ADJ\nfields: NOUN\n,: PUNCT\nthere: PRON\nlived: VERB\na: DET\nyoung: ADJ\ngirl: NOUN\nnamed: VERB\nMaya: PROPN\n.: PUNCT\nEvery: DET\nsummer: NOUN\n,: PUNCT\nwhen: SCONJ\nthe: DET\nmango: NOUN\ntrees: NOUN\nbloomed: VERB\n,: PUNCT\nMaya: PROPN\nwould: AUX\neagerly: ADV\nwait: VERB\nfor: ADP\nthe: DET\narrival: NOUN\nof: ADP\nthe: DET\nred: ADJ\nmangoes: NOUN\n.: PUNCT\nThese: DET\nmangoes: NOUN\n,: PUNCT\nwith: ADP\ntheir: PRON\nvibrant: ADJ\nhue: NOUN\nand: CCONJ\nsweet: ADJ\nfragrance: NOUN\n,: PUNCT\nwere: AUX\na: DET\ndelight: NOUN\nto: ADP\nher: PRON\ntaste: NOUN\nbuds: NOUN\n.: PUNCT\nMaya: PROPN\nwould: AUX\nclimb: VERB\nthe: DET\ntallest: ADJ\ntree: NOUN\n,: PUNCT\npluck: VERB\nthe: DET\nripest: ADJ\nmangoes: NOUN\n,: PUNCT\nand: CCONJ\nshare: VERB\nthem: PRON\nwith: ADP\nher: PRON\nfriends: NOUN\n.: PUNCT\nOne: NUM\nsummer: NOUN\n,: PUNCT\na: DET\nstorm: NOUN\ndestroyed: VERB\nthe: DET\nmango: NOUN\ntrees: NOUN\n,: PUNCT\nleaving: VERB\nMaya: PROPN\ndisheartened: VERB\n.: PUNCT\nBut: CCONJ\nwith: ADP\ndetermination: NOUN\n,: PUNCT\nshe: PRON\nplanted: VERB\nnew: ADJ\nsaplings: NOUN\n,: PUNCT\nknowing: VERB\nthat: SCONJ\nsomeday: ADV\n,: PUNCT\nthe: DET\nred: ADJ\nmangoes: NOUN\nwould: AUX\nonce: ADV\nagain: ADV\ngrace: VERB\nher: PRON\nvillage: NOUN\nwith: ADP\ntheir: PRON\npresence: NOUN\n.: PUNCT\nGenerated Story:\n In a small village nestled amidst lush green fields, there lived a little girl named Meena. Every summer, when the mango trees bore their luscious fruits, Meena's eyes sparkled with joy. But her favorite were the red mangoes that grew on a tree near the riverbank. One day, she decided to pick one for her sick grandmother. As she reached out, a mischievous monkey snatched it away. Determined, Meena chased the monkey through the trees until it dropped the mango. She returned home, proud and triumphant. From that day on, Meena's grandmother always had a red mango by her side, a symbol of Meena's love and determination.\n\nEmbeddings:\n {'input_ids': [818, 257, 1402, 7404, 16343, 992, 31095, 37408, 4077, 7032, 11, 612, 5615, 257, 1310, 2576, 3706, 2185, 8107, 13, 3887, 3931, 11, 618, 262, 49364, 7150, 18631, 511, 300, 385, 4680, 15921, 11, 2185, 8107, 338, 2951, 9009, 992, 351, 8716, 13, 887, 607, 4004, 547, 262, 2266, 49364, 274, 326, 6348, 319, 257, 5509, 1474, 262, 7850, 17796, 13, 1881, 1110, 11, 673, 3066, 284, 2298, 530, 329, 607, 6639, 18410, 13, 1081, 673, 4251, 503, 11, 257, 2984, 3043, 31222, 21657, 43276, 340, 1497, 13, 360, 23444, 11, 2185, 8107, 26172, 262, 21657, 832, 262, 7150, 1566, 340, 5710, 262, 49364, 13, 1375, 4504, 1363, 11, 6613, 290, 44005, 13, 3574, 326, 1110, 319, 11, 2185, 8107, 338, 18410, 1464, 550, 257, 2266, 49364, 416], 'attention_mask': [1, 1, 1, 1, 1, 1, 1, 1, 1, 1, 1, 1, 1, 1, 1, 1, 1, 1, 1, 1, 1, 1, 1, 1, 1, 1, 1, 1, 1, 1, 1, 1, 1, 1, 1, 1, 1, 1, 1, 1, 1, 1, 1, 1, 1, 1, 1, 1, 1, 1, 1, 1, 1, 1, 1, 1, 1, 1, 1, 1, 1, 1, 1, 1, 1, 1, 1, 1, 1, 1, 1, 1, 1, 1, 1, 1, 1, 1, 1, 1, 1, 1, 1, 1, 1, 1, 1, 1, 1, 1, 1, 1, 1, 1, 1, 1, 1, 1, 1, 1, 1, 1, 1, 1, 1, 1, 1, 1, 1, 1, 1, 1, 1, 1, 1, 1, 1, 1, 1, 1, 1, 1, 1, 1, 1, 1, 1, 1]}\n\nPart-of-Speech Tags:\nIn: ADP\na: DET\nsmall: ADJ\nvillage: NOUN\nnestled: VERB\namidst: ADP\nlush: ADJ\ngreen: ADJ\nfields: NOUN\n,: PUNCT\nthere: PRON\nlived: VERB\na: DET\nlittle: ADJ\ngirl: NOUN\nnamed: VERB\nMeena: PROPN\n.: PUNCT\nEvery: DET\nsummer: NOUN\n,: PUNCT\nwhen: SCONJ\nthe: DET\nmango: NOUN\ntrees: NOUN\nbore: VERB\ntheir: PRON\nluscious: ADJ\nfruits: NOUN\n,: PUNCT\nMeena: PROPN\n's: PART\neyes: NOUN\nsparkled: VERB\nwith: ADP\njoy: NOUN\n.: PUNCT\nBut: CCONJ\nher: PRON\nfavorite: NOUN\nwere: AUX\nthe: DET\nred: ADJ\nmangoes: NOUN\nthat: PRON\ngrew: VERB\non: ADP\na: DET\ntree: NOUN\nnear: ADP\nthe: DET\nriverbank: NOUN\n.: PUNCT\nOne: NUM\nday: NOUN\n,: PUNCT\nshe: PRON\ndecided: VERB\nto: PART\npick: VERB\none: NUM\nfor: ADP\nher: PRON\nsick: ADJ\ngrandmother: NOUN\n.: PUNCT\nAs: SCONJ\nshe: PRON\nreached: VERB\nout: ADP\n,: PUNCT\na: DET\nmischievous: ADJ\nmonkey: NOUN\nsnatched: VERB\nit: PRON\naway: ADV\n.: PUNCT\nDetermined: VERB\n,: PUNCT\nMeena: PROPN\nchased: VERB\nthe: DET\nmonkey: NOUN\nthrough: ADP\nthe: DET\ntrees: NOUN\nuntil: SCONJ\nit: PRON\ndropped: VERB\nthe: DET\nmango: NOUN\n.: PUNCT\nShe: PRON\nreturned: VERB\nhome: ADV\n,: PUNCT\nproud: ADJ\nand: CCONJ\ntriumphant: ADJ\n.: PUNCT\nFrom: ADP\nthat: DET\nday: NOUN\non: ADV\n,: PUNCT\nMeena: PROPN\n's: PART\ngrandmother: NOUN\nalways: ADV\nhad: VERB\na: DET\nred: ADJ\nmango: NOUN\nby: ADP\nher: PRON\nside: NOUN\n,: PUNCT\na: DET\nsymbol: NOUN\nof: ADP\nMeena: PROPN\n's: PART\nlove: NOUN\nand: CCONJ\ndetermination: NOUN\n.: PUNCT\n"
     ]
    },
    {
     "output_type": "display_data",
     "data": {
      "text/plain": [
       "Enter the prompt for the story (Press Q to quit): q"
      ]
     },
     "metadata": {},
     "output_type": "display_data"
    },
    {
     "output_type": "stream",
     "name": "stdout",
     "output_type": "stream",
     "text": [
      "Exiting program...\n"
     ]
    }
   ],
   "source": [
    "await main()"
   ]
  }
 ],
 "metadata": {
  "application/vnd.databricks.v1+notebook": {
   "dashboards": [],
   "environmentMetadata": {
    "base_environment": "",
    "client": "1"
   },
   "language": "python",
   "notebookMetadata": {
    "mostRecentlyExecutedCommandWithImplicitDF": {
     "commandId": 1150642416865243,
     "dataframes": [
      "_sqldf"
     ]
    },
    "pythonIndentUnit": 2
   },
   "notebookName": "241122 Assignment Classroom",
   "widgets": {}
  },
  "language_info": {
   "name": "python"
  }
 },
 "nbformat": 4,
 "nbformat_minor": 0
}
